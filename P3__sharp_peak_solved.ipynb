{
 "cells": [
  {
   "cell_type": "code",
   "execution_count": null,
   "id": "97eda3f6",
   "metadata": {},
   "outputs": [
    {
     "name": "stderr",
     "output_type": "stream",
     "text": [
      "\u001b[36m[BQ-PYTHON-SDK]\u001b[0m[\u001b[33mWARNING\u001b[0m] - Beta version 0.12.0b1 of BlueQubit Python SDK is being used.\u001b[0m\n"
     ]
    },
    {
     "name": "stdout",
     "output_type": "stream",
     "text": [
      "\u001b[36m[BQ-PYTHON-SDK]\u001b[0m[\u001b[32mINFO\u001b[0m] - Submitted: Job ID: XeU0V5CD6e31ZvHT, device: mps.cpu, run status: RUNNING, created on: 2025-05-25 07:20:58 UTC, estimated runtime: 100 ms, estimated cost: $0.00, num qubits: 44\u001b[0m\n",
      "Most frequent bitstring: 10001101010101010000011111001101000100011010\n"
     ]
    }
   ],
   "source": [
    "from qiskit import QuantumCircuit\n",
    "from bluequbit import init\n",
    "\n",
    "qc = QuantumCircuit.from_qasm_file(\"P3__sharp_peak.qasm\")\n",
    "\n",
    "if not qc.cregs:\n",
    "    qc.measure_all()\n",
    "\n",
    "bq = init(\"Your Token\")\n",
    "\n",
    "job_result = bq.run(qc, device='mps.cpu', shots=1024)\n",
    "counts = job_result.get_counts()\n",
    "\n",
    "print(\"Most frequent bitstring:\", max(counts, key=counts.get))"
   ]
  }
 ],
 "metadata": {
  "kernelspec": {
   "display_name": "bluequbit",
   "language": "python",
   "name": "python3"
  },
  "language_info": {
   "codemirror_mode": {
    "name": "ipython",
    "version": 3
   },
   "file_extension": ".py",
   "mimetype": "text/x-python",
   "name": "python",
   "nbconvert_exporter": "python",
   "pygments_lexer": "ipython3",
   "version": "3.10.17"
  }
 },
 "nbformat": 4,
 "nbformat_minor": 5
}
